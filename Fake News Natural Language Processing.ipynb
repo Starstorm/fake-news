{
 "cells": [
  {
   "cell_type": "code",
   "execution_count": null,
   "metadata": {
    "collapsed": false
   },
   "outputs": [],
   "source": [
    "# Named Entity Recognition\n",
    "# A great method of identifying names and organizations in text.\n",
    "from nltk.tag import StanfordNERTagger\n",
    "from nltk.tokenize import word_tokenize\n",
    "import os\n",
    "NER_PATH = 'your-path-here/stanford-ner.jar'\n",
    "CLASSIFIERS_PATH = 'your-path-here/english.all.3class.distsim.crf.ser.gz'\n",
    "os.environ['JAVAHOME'] = 'your-path-here/java.exe'\n",
    "st = StanfordNERTagger(CLASSIFIERS_PATH, NER_PATH, encoding='utf-8')\n",
    "\n",
    "tokenized_text = word_tokenize(\"I went to the store yesterday where I met Johnny Doe. \\\n",
    "John invests in Google, and owns a company called Sprint.\")\n",
    "classified_text = st.tag(tokenized_text)\n",
    "\n",
    "print(classified_text)"
   ]
  },
  {
   "cell_type": "code",
   "execution_count": null,
   "metadata": {
    "collapsed": false
   },
   "outputs": [],
   "source": [
    "# Positive/Negative Sentiment Analysis\n",
    "# Not good at handling more than a sentence or two at a time.\n",
    "from nltk.sentiment.vader import SentimentIntensityAnalyzer\n",
    "from nltk import tokenize\n",
    "\n",
    "sentences = [\"VADER is smart, handsome, and funny.\", # positive sentence example\n",
    "\"VADER is smart, handsome, and funny!\", # punctuation emphasis handled correctly (sentiment intensity adjusted)\n",
    "\"VADER is very smart, handsome, and funny.\",  # booster words handled correctly (sentiment intensity adjusted)\n",
    "\"VADER is VERY SMART, handsome, and FUNNY.\",  # emphasis for ALLCAPS handled\n",
    "\"VADER is VERY SMART, handsome, and FUNNY!!!\",# combination of signals - VADER appropriately adjusts intensity\n",
    "\"VADER is VERY SMART, really handsome, and INCREDIBLY FUNNY!!!\",# booster words & punctuation make this close to ceiling for score\n",
    "\"The book was good.\",         # positive sentence\n",
    "\"The book was kind of good.\", # qualified positive sentence is handled correctly (intensity adjusted)\n",
    "\"The plot was good, but the characters are uncompelling and the dialog is not great.\", # mixed negation sentence\n",
    "\"A really bad, horrible book.\",       # negative sentence with booster words\n",
    "\"At least it isn't a horrible book.\", # negated negative sentence with contraction\n",
    "\":) and :D\",     # emoticons handled\n",
    "\"\",              # an empty string is correctly handled\n",
    "\"Today sux\",     #  negative slang handled\n",
    "\"Today sux!\",    #  negative slang with punctuation emphasis handled\n",
    "\"Today SUX!\",    #  negative slang with capitalization emphasis\n",
    "\"Today kinda sux! But I'll get by, lol\" # mixed sentiment example with slang and constrastive conjunction \"but\"\n",
    "]\n",
    "\n",
    "tricky_sentences = [\n",
    "\"Most automated sentiment analysis tools are shit.\",\n",
    "\"VADER sentiment analysis is the shit.\",\n",
    "\"Sentiment analysis has never been good.\",\n",
    "\"Sentiment analysis with VADER has never been this good.\",\n",
    "\"Warren Beatty has never been so entertaining.\",\n",
    "\"I won't say that the movie is astounding and I wouldn't claim that \\\n",
    "the movie is too banal either.\",\n",
    "\"I like to hate Michael Bay films, but I couldn't fault this one\",\n",
    "\"It's one thing to watch an Uwe Boll film, but another thing entirely \\\n",
    "to pay for it\",\n",
    "\"The movie was too good\",\n",
    "\"This movie was actually neither that funny, nor super witty.\",\n",
    "\"This movie doesn't care about cleverness, wit or any other kind of \\\n",
    "intelligent humor.\",\n",
    "\"Those who find ugly meanings in beautiful things are corrupt without \\\n",
    "being charming.\",\n",
    "\"There are slow and repetitive parts, BUT it has just enough spice to \\\n",
    "keep it interesting.\",\n",
    "\"The script is not fantastic, but the acting is decent and the cinematography \\\n",
    "is EXCELLENT!\",\n",
    "\"Roger Dodger is one of the most compelling variations on this theme.\",\n",
    "\"Roger Dodger is one of the least compelling variations on this theme.\",\n",
    "\"Roger Dodger is at least compelling as a variation on the theme.\",\n",
    "\"they fall in love with the product\",\n",
    "\"but then it breaks\",\n",
    "\"usually around the time the 90 day warranty expires\",\n",
    "\"However, Mr. Carter solemnly argues, his client carried out the kidnapping \\\n",
    "under orders and in the ''least offensive way possible.''\",\n",
    "]\n",
    "\n",
    "sentences.extend(tricky_sentences)\n",
    "\n",
    "sid = SentimentIntensityAnalyzer()\n",
    "for sentence in sentences:\n",
    "    print(sentence)\n",
    "    ss = sid.polarity_scores(sentence)\n",
    "    for k in sorted(ss):\n",
    "        print('{0}: {1}, '.format(k, ss[k]), end='')\n",
    "    print()"
   ]
  },
  {
   "cell_type": "code",
   "execution_count": null,
   "metadata": {
    "collapsed": false
   },
   "outputs": [],
   "source": [
    "# Political Sentiment Analysis\n",
    "# Not always that accurate, unfortunately\n",
    "from indicoio import political, config\n",
    "config.api_key = \"GET-YOUR-API-KEY-AND-INSERT-HERE\"\n",
    "print(political(\"Those who surrender freedom for security will not have, nor do they deserve, either one.\"))\n",
    "print(political(\"War solves no problems. Only peace can achieve the future we all deserve.\"))\n",
    "print(political(\"Fracking is evil, it destroys the environment. We need to utilize solar and wind energy.\"))"
   ]
  },
  {
   "cell_type": "code",
   "execution_count": null,
   "metadata": {
    "collapsed": false
   },
   "outputs": [],
   "source": [
    "# Emotional Sentiment Analysis\n",
    "# Surprisingly accurate!\n",
    "from indicoio import emotion\n",
    "print(emotion(\"The evil OBAMA administration is going to destroy America! Here's how we can resist:\"))\n",
    "print(emotion(\"I can't believe that Trump won the election... I wasn't expecting it at all!\"))"
   ]
  },
  {
   "cell_type": "code",
   "execution_count": null,
   "metadata": {
    "collapsed": false
   },
   "outputs": [],
   "source": [
    "# Text Tagging by 110 common writing categories\n",
    "# Sorting text into pre-defined categories, with likelihood of fit probabilities\n",
    "from indicoio import text_tags, keywords\n",
    "print('Text Tags:')\n",
    "print(text_tags(\"Facebook blog posts about Android tech make better journalism than most news outlets.\", top_n=5))"
   ]
  },
  {
   "cell_type": "code",
   "execution_count": null,
   "metadata": {
    "collapsed": false
   },
   "outputs": [],
   "source": [
    "# Keyword determination in text\n",
    "# Figure out the most IMPORTANT words in a given sentence or paragraph\n",
    "print('Keywords:')\n",
    "print(keywords(\"Facebook blog posts about Android tech make better journalism than most news outlets.\", top_n=5))"
   ]
  },
  {
   "cell_type": "code",
   "execution_count": null,
   "metadata": {
    "collapsed": false
   },
   "outputs": [],
   "source": [
    "# Word2Vec Modeling - Google's pre-trained model. Very thorough, but slow.\n",
    "# Note: Will require 8GB of RAM to run with even a little speed.\n",
    "# Determining word/phrase similarity to one another\n",
    "import gensim\n",
    "# Load Google's pre-trained Word2Vec model.\n",
    "print(\"Starting...\")\n",
    "model = gensim.models.KeyedVectors.load_word2vec_format('C:/Users/joshl/workspace/PythonClass/Lectures2/Aidis/GoogleNews-vectors-negative300.bin', binary=True)\n",
    "print(\"Initial Load Complete... Freeing Excess Memory...\")\n",
    "model.init_sims(replace=True)\n",
    "print(\"Ready!\")"
   ]
  },
  {
   "cell_type": "code",
   "execution_count": null,
   "metadata": {
    "collapsed": false
   },
   "outputs": [],
   "source": [
    "print(model.most_similar(positive=['sports'], negative=['politics']))\n",
    "print(model.doesnt_match(\"breakfast cereal dinner lunch\".split()))\n",
    "print(model.similarity('election', 'politics'))"
   ]
  },
  {
   "cell_type": "code",
   "execution_count": null,
   "metadata": {
    "collapsed": false
   },
   "outputs": [],
   "source": [
    "# Word Frequency Distributions from a news article on a website\n",
    "import requests\n",
    "from bs4 import BeautifulSoup\n",
    "from nltk.corpus import stopwords\n",
    "import nltk\n",
    "import pprint\n",
    "response = requests.get(\"https://www.cnet.com/pictures/look-at-this-amazing-smart-home-tech-for-your-kitchen/\").text\n",
    "soup = BeautifulSoup(response,\"lxml\")\n",
    "for script in soup([\"script\", \"style\"]):\n",
    "    script.extract()    # rip it out\n",
    "text = soup.find(\"body\").get_text(\" \").replace(\"\\n\",\"\")\n",
    "stopwords = stopwords.words('english')\n",
    "text_formatted = nltk.Text(nltk.word_tokenize(text))\n",
    "fdist1 = nltk.FreqDist(w for w in text_formatted if w.lower() not in stopwords and w.isalpha())\n",
    "pprint.pprint(fdist1.most_common(20))"
   ]
  },
  {
   "cell_type": "code",
   "execution_count": null,
   "metadata": {
    "collapsed": false
   },
   "outputs": [],
   "source": [
    "# Combining different tools on a single piece of text.\n",
    "import pprint\n",
    "print(\"Relevant Tags:\")\n",
    "pprint.pprint(text_tags(text, top_n=5))\n",
    "print(\"Keywords:\")\n",
    "pprint.pprint(keywords(text, top_n=5))\n",
    "tokenized_text = word_tokenize(text)\n",
    "classified_text = st.tag(tokenized_text)\n",
    "print(\"Person/Organization Detection:\")\n",
    "pprint.pprint([word for word in classified_text if word[1] != \"O\"])"
   ]
  }
 ],
 "metadata": {
  "anaconda-cloud": {},
  "kernelspec": {
   "display_name": "Python [conda root]",
   "language": "python",
   "name": "conda-root-py"
  },
  "language_info": {
   "codemirror_mode": {
    "name": "ipython",
    "version": 3
   },
   "file_extension": ".py",
   "mimetype": "text/x-python",
   "name": "python",
   "nbconvert_exporter": "python",
   "pygments_lexer": "ipython3",
   "version": "3.4.5"
  }
 },
 "nbformat": 4,
 "nbformat_minor": 1
}
